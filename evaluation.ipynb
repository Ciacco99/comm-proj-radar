{
 "cells": [
  {
   "cell_type": "markdown",
   "metadata": {},
   "source": [
    "<h1> Evaluation (Graded Assignment) </h1>\n",
    "Now that you have been introduced to different methods of plotting, processing and loading the raw data data. Please complete this evaluation on extending the 1D beamforming and 1D Matched Filter into 2D processing. We have provided data where we have taken wireless images of various objects and your goal is to figure out what we have imaged. At the bottom of the notebook are a few questions to answer.\n",
    "\n",
    "Your deliverables are:\n",
    "1. Add the implementation of 2D beamforming\n",
    "2. Add the implementation of 2D matched filter algorithm\n",
    "3. Answer the 3 questions at the bottom of the notebook\n"
   ]
  },
  {
   "cell_type": "code",
   "execution_count": null,
   "metadata": {},
   "outputs": [],
   "source": [
    "import numpy as np\n",
    "import matplotlib.pyplot as plt\n",
    "import os\n",
    "import scipy\n",
    "import scipy.io as sio\n",
    "import processing.save_adc_data as sd\n",
    "import processing._process_data as pd"
   ]
  },
  {
   "cell_type": "markdown",
   "metadata": {},
   "source": [
    "Load the given data."
   ]
  },
  {
   "cell_type": "code",
   "execution_count": null,
   "metadata": {},
   "outputs": [],
   "source": [
    "# TODO: Put the *path* to the project folder\n",
    "home_dir = r\"/Users/shanbhag/Documents/School/comm-proj-radars\"\n",
    "\n",
    "# loading data that is given\n",
    "filename = r\"data_001\"\n",
    "data_dir = r\"given_data\"\n",
    "mat_data = sio.loadmat(os.path.join(home_dir,data_dir,filename + '.mat'))\n",
    "raw_data = mat_data['adcData']\n",
    "num_x_stp, num_z_stp, num_tx, num_rx, adc_samples = raw_data.shape\n",
    "X = raw_data"
   ]
  },
  {
   "cell_type": "markdown",
   "metadata": {},
   "source": [
    "Here you should finish defining the antenna locations. We are using the same data as before, so the x-positions will be the same. However, in this case you also need to define the z-locations.  "
   ]
  },
  {
   "cell_type": "code",
   "execution_count": null,
   "metadata": {},
   "outputs": [],
   "source": [
    "# define the antenna spacing\n",
    "lm = 3e8/77e9 # define lambda for the antenna spacing\n",
    "rx_pos = np.reshape(np.arange(1,5,dtype=float),(-1,1)) / 2\n",
    "x_pos = (np.reshape(np.arange(1,81,dtype=float),(-1,1)) * lm).T\n",
    "x_pos = np.reshape(rx_pos.T * x_pos.T ,(-1,1))\n",
    "z_pos = 0 # TODO: fill in z locations of the antenna spacing (vertical spacing) "
   ]
  },
  {
   "cell_type": "markdown",
   "metadata": {},
   "source": [
    "Perform range FFT on raw ADC data."
   ]
  },
  {
   "cell_type": "code",
   "execution_count": null,
   "metadata": {},
   "outputs": [],
   "source": [
    "# reformat the data so that it matches the antenna locations\n",
    "X = np.reshape(np.transpose(np.squeeze(X),(0,2,1,3)),(num_x_stp * num_rx, num_z_stp, adc_samples)) \n",
    "beat_freq = np.squeeze(scipy.fft.fft(X, axis=-1))"
   ]
  },
  {
   "cell_type": "markdown",
   "metadata": {},
   "source": [
    "<h5> 1. 2D Beamforming: </h5>\n",
    "Implement your version of 2D beamforming below. The antenna array is is 4x80 along the x-dimension and 639 along the z-dimension (vertical), with the antenna spacing a long the vertical direction as (300/lm/4/738). This is the same formulation as shown in *exercise_2.ipynb*. The bins you should compute the azimuth and elevation angles are for XXX. \n",
    "\n",
    "To start with, we recommend copying the implementation details from 1D and simply extend the calculations to include the elevation (z) information. "
   ]
  },
  {
   "cell_type": "code",
   "execution_count": null,
   "metadata": {},
   "outputs": [],
   "source": [
    "def beamform_2d():\n",
    "    # TODO: implement your function here\n",
    "    return"
   ]
  },
  {
   "cell_type": "markdown",
   "metadata": {},
   "source": [
    "Plot the 2D slice here."
   ]
  },
  {
   "cell_type": "code",
   "execution_count": null,
   "metadata": {},
   "outputs": [],
   "source": [
    "# TODO: plot your output here"
   ]
  },
  {
   "cell_type": "markdown",
   "metadata": {},
   "source": [
    "<h5> 2. 2D Matched Filter: </h5>\n",
    "Implement your version of 2D matched filtering below. The antenna array is same as above, and the depths you should calculate are XXX with resolution XX."
   ]
  },
  {
   "cell_type": "code",
   "execution_count": null,
   "metadata": {},
   "outputs": [],
   "source": [
    "def MF_2d():\n",
    "    # TODO: implement your function here\n",
    "    return"
   ]
  },
  {
   "cell_type": "markdown",
   "metadata": {},
   "source": [
    "Plot your 2D slices here."
   ]
  },
  {
   "cell_type": "code",
   "execution_count": null,
   "metadata": {},
   "outputs": [],
   "source": [
    "# TODO: plot your output here"
   ]
  },
  {
   "cell_type": "markdown",
   "metadata": {},
   "source": [
    "Now answer the following questions pertaining to your results. "
   ]
  },
  {
   "cell_type": "markdown",
   "metadata": {},
   "source": [
    "Question 1: Look through the possible objects that have been imaged, and match your output to one of these objects. Write the object below:"
   ]
  },
  {
   "cell_type": "markdown",
   "metadata": {},
   "source": [
    "Question 2: Which image looks more realistic, beamforming or matched filter?"
   ]
  },
  {
   "cell_type": "markdown",
   "metadata": {},
   "source": [
    "Question 3: Explain the reason for one processing algorithm to produce better images than the other."
   ]
  }
 ],
 "metadata": {
  "language_info": {
   "name": "python"
  }
 },
 "nbformat": 4,
 "nbformat_minor": 2
}
