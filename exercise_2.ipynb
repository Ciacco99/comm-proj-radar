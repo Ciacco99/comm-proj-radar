{
 "cells": [
  {
   "cell_type": "markdown",
   "metadata": {},
   "source": [
    "<h1> Exercises 2: More complex radar data!</h1>\n",
    "In this notebook we have a more complex example of beamforming and matched filter. The majority of the complexity will be seen in the antenna position declaration, since the beamforming algorithm and the matched filter algorithm should remain the same. "
   ]
  },
  {
   "cell_type": "code",
   "execution_count": 2,
   "metadata": {},
   "outputs": [],
   "source": [
    "\n",
    "import numpy as np\n",
    "import matplotlib.pyplot as plt\n",
    "import os\n",
    "import scipy\n",
    "import scipy.io as sio\n",
    "import time"
   ]
  },
  {
   "cell_type": "markdown",
   "metadata": {},
   "source": [
    "<h5> 1. Beamforming </h5>\n",
    "\n",
    "To help understand some of the ways to visualize radar data better, we have provided some processed data and some examples of Python plotting code to play around with. First we will go through the process of beamforming and show the bird eye view (BEV) heatmaps we can recover from this.\n",
    "For beamforming, it requires knowing a few details about the antenna array that captured the data. We will describe it in more detail below.\n",
    "For the rest of this section, the horizontal dimension will be defined as *x*, vertical as *z*, and depth will be defined by *y*. \n",
    "\n",
    "First, we load the data provided.\n"
   ]
  },
  {
   "cell_type": "code",
   "execution_count": 18,
   "metadata": {},
   "outputs": [],
   "source": [
    "# TODO: Put the *path* to the project folder\n",
    "home_dir = r\"/Users/shanbhag/Documents/School/comm-proj-radars\"\n",
    "\n",
    "# loading data that is given\n",
    "filename = r\"data_008\"\n",
    "data_dir = r\"given_data\"\n",
    "mat_data = sio.loadmat(os.path.join(home_dir,data_dir,filename + '.mat'))\n",
    "raw_data = mat_data['adcData']\n",
    "num_x_stp, num_z_stp, num_tx, num_rx, adc_samples = raw_data.shape\n"
   ]
  },
  {
   "cell_type": "markdown",
   "metadata": {},
   "source": [
    "Now we will describe the antenna array pattern. The data provided was taken by scanning a much smaller radar and set of antennas (same as exercise_1.ipynb) to emulate a larger antenna array. This is also known as SAR (Synthetic Aperture Radar), which you should have seen in the pre-recorded lectures.\n",
    "\n",
    "The scanning radar has 1 transmitter and 4 receivers. The receivers are spaced $\\lambda$/2 apart, and the transmitter is offset by 0.005 + $\\lambda$/2. \n",
    "The receiver antenna pattern is defined in the variable *rx_pos*. The transmitter locations are only needed in the matched filter code, which you will see more details there.\n",
    "\n",
    "Then, we scan the radar horizontally and vertically. In this portion, only the horizontal scan is used (we will aribitarily pick one vertical location and use that), and we leave the implementation of recreating the 2D image for the evaluation.\n",
    "\n",
    "The radar is moved along the x-axis 80 times, each time moving by a distance $\\lambda$, which you can see is defined by the variable *x_pos*. Finally, *ant_pos* defines the total receiver antenna scanning pattern. "
   ]
  },
  {
   "cell_type": "code",
   "execution_count": 16,
   "metadata": {},
   "outputs": [
    {
     "name": "stdout",
     "output_type": "stream",
     "text": [
      "[[ 0.        ]\n",
      " [-0.0038961 ]\n",
      " [-0.00779221]\n",
      " [-0.01168831]\n",
      " [-0.01558442]\n",
      " [-0.01948052]\n",
      " [-0.02337662]\n",
      " [-0.02727273]\n",
      " [-0.03116883]\n",
      " [-0.03506494]\n",
      " [-0.03896104]\n",
      " [-0.04285714]\n",
      " [-0.04675325]\n",
      " [-0.05064935]\n",
      " [-0.05454545]\n",
      " [-0.05844156]\n",
      " [-0.06233766]\n",
      " [-0.06623377]\n",
      " [-0.07012987]\n",
      " [-0.07402597]\n",
      " [-0.07792208]\n",
      " [-0.08181818]\n",
      " [-0.08571429]\n",
      " [-0.08961039]\n",
      " [-0.09350649]\n",
      " [-0.0974026 ]\n",
      " [-0.1012987 ]\n",
      " [-0.10519481]\n",
      " [-0.10909091]\n",
      " [-0.11298701]\n",
      " [-0.11688312]\n",
      " [-0.12077922]\n",
      " [-0.12467532]\n",
      " [-0.12857143]\n",
      " [-0.13246753]\n",
      " [-0.13636364]\n",
      " [-0.14025974]\n",
      " [-0.14415584]\n",
      " [-0.14805195]\n",
      " [-0.15194805]\n",
      " [-0.15584416]\n",
      " [-0.15974026]\n",
      " [-0.16363636]\n",
      " [-0.16753247]\n",
      " [-0.17142857]\n",
      " [-0.17532468]\n",
      " [-0.17922078]\n",
      " [-0.18311688]\n",
      " [-0.18701299]\n",
      " [-0.19090909]\n",
      " [-0.19480519]\n",
      " [-0.1987013 ]\n",
      " [-0.2025974 ]\n",
      " [-0.20649351]\n",
      " [-0.21038961]\n",
      " [-0.21428571]\n",
      " [-0.21818182]\n",
      " [-0.22207792]\n",
      " [-0.22597403]\n",
      " [-0.22987013]\n",
      " [-0.23376623]\n",
      " [-0.23766234]\n",
      " [-0.24155844]\n",
      " [-0.24545455]\n",
      " [-0.24935065]\n",
      " [-0.25324675]\n",
      " [-0.25714286]\n",
      " [-0.26103896]\n",
      " [-0.26493506]\n",
      " [-0.26883117]\n",
      " [-0.27272727]\n",
      " [-0.27662338]\n",
      " [-0.28051948]\n",
      " [-0.28441558]\n",
      " [-0.28831169]\n",
      " [-0.29220779]\n",
      " [-0.2961039 ]\n",
      " [-0.3       ]\n",
      " [-0.3038961 ]\n",
      " [-0.30779221]]\n"
     ]
    }
   ],
   "source": [
    "# define the antenna spacing\n",
    "lm = 3e8/77e9 # define lambda for the antenna spacing\n",
    "\n",
    "# this is the receiver positions\n",
    "rx_pos = np.reshape(np.arange(1,5,dtype=float),(-1,1)) * lm / 2\n",
    "\n",
    "# this is the locations of the locations of the radar (we are moving it by lambda) \n",
    "x_pos = -(np.reshape(np.arange(1,81,dtype=float),(-1,1))) * lm\n",
    "\n",
    "# antenna positions for all receivers in the entire scan. /lm so that we don't have two factors of lm when we multiply them\n",
    "ant_pos = np.reshape(rx_pos.T * x_pos/lm,(-1,1))\n",
    "ant_pos = ant_pos - ant_pos[0] # make sure first location is 0\n",
    "x_pos = x_pos - x_pos[0] # make sure first location is 0"
   ]
  },
  {
   "cell_type": "code",
   "execution_count": 17,
   "metadata": {},
   "outputs": [],
   "source": [
    "def steering_vec(theta,locs):\n",
    "    '''\n",
    "    Calculates the steering vector based on the angle given (theta) and the angtenna array locations. \n",
    "    \n",
    "    Paramters: \n",
    "    - theta: angle of arrival that we are calculating the steering vector for (radians)\n",
    "    - locs: antenna locations\n",
    "\n",
    "    Returns:\n",
    "    - bf_vector: steering vector\n",
    "    '''\n",
    "\n",
    "    cos_theta = np.cos(theta) # angle that the signal is coming from \n",
    "    bf_vector = np.exp(1j*(2*np.pi*(locs*cos_theta)/lm))\n",
    "\n",
    "    return bf_vector"
   ]
  },
  {
   "cell_type": "markdown",
   "metadata": {},
   "source": [
    "In some cases, there is a lot of self-interference between the antennas when we scan, and it appears as a very very strong signal very close to the radar. Thus, we sometimes will pass the raw signal through a highpass filter to get rid of the strong signals at the lower frequencies. You can try with and without this highpass filter and see how it affects the images. "
   ]
  },
  {
   "cell_type": "code",
   "execution_count": 19,
   "metadata": {},
   "outputs": [],
   "source": [
    "################# Change the values based on how much of the azimuth angles you want to see and the resolution ##################\n",
    "# Define field of view in degrees that you want to process in theta \n",
    "def beamform_1d(beat_freq_data, theta_s, theta_e,theta_res,locs):\n",
    "    \"\"\"\n",
    "    Performs 1D beamforming along the azimuth (horizontal) dimension, this results in a bird eye view image.\n",
    "\n",
    "    Paramters:\n",
    "    - beat_freq_data: beat data AKA the range FFT (size: num TX * num RX, num ADC samples)\n",
    "    - theta_s: first angle that you want to start computing \n",
    "    - theta_e: last angle that you want to compute \n",
    "    - theta_res: resolution of the angles you want to compute\n",
    "    - locs: antenna locations\n",
    "\n",
    "    Returns:\n",
    "    - sph_pwr: beamformed result\n",
    "    - theta: the array of the angles computed\n",
    "    \"\"\"\n",
    "    # Convert everything to Radians \n",
    "    theta_s_r = theta_s * (np.pi/180)\n",
    "    theta_e_r = theta_e * (np.pi/180)\n",
    "    theta_res*= (np.pi/180)\n",
    "    theta_rad_lim = [theta_s_r,theta_e_r]\n",
    "\n",
    "    # Generate arrays for theta \n",
    "    theta = np.arange(theta_rad_lim[0], theta_rad_lim[1], theta_res)\n",
    "    N_theta = len(theta)\n",
    "\n",
    "    # Initialize arrays for spherical power\n",
    "    sph_pwr = np.zeros((N_theta, adc_samples), dtype=complex)\n",
    "\n",
    "    print(\"Running this many iterations: %d \" % (N_theta))\n",
    "\n",
    "    ######################## BF Calculations ###########################3\n",
    "    for kt in range(N_theta):\n",
    "        start_time = time.time()\n",
    "        Vec = steering_vec(theta[kt],locs)\n",
    "        # Vec = np.exp(1j*(2*np.pi*(locs*cos_theta)/lm))\n",
    "        VecRFI = np.squeeze(np.repeat(Vec[:, np.newaxis], adc_samples, axis=1))\n",
    "        sph_pwr[kt, :] = np.squeeze(np.sum(np.multiply(np.squeeze(beat_freq_data),VecRFI), axis=(0)))        \n",
    "        print(\"Processed angle (%.2f) took %.2f sec\" % (theta[kt]*180/np.pi, start_time - time.time()), end='\\r')\n",
    "    return sph_pwr, theta"
   ]
  },
  {
   "cell_type": "markdown",
   "metadata": {},
   "source": [
    "Take the first verical scan, and the range FFT of the raw ADC data."
   ]
  },
  {
   "cell_type": "code",
   "execution_count": 22,
   "metadata": {},
   "outputs": [],
   "source": [
    "# just look at one vertical dimension since we are not using elevation\n",
    "X = raw_data[:,0,:,:,:]\n",
    "beat_freq = scipy.fft.fft(X, axis=-1)\n",
    "beat_freq = np.reshape(beat_freq,(-1,adc_samples))"
   ]
  },
  {
   "cell_type": "markdown",
   "metadata": {},
   "source": [
    "Run the beamforming algorithm! Here we are doing theta from 70 degrees to 130 degrees."
   ]
  },
  {
   "cell_type": "code",
   "execution_count": 23,
   "metadata": {},
   "outputs": [
    {
     "name": "stdout",
     "output_type": "stream",
     "text": [
      "Running this many iterations: 61 \n",
      "Processed angle (130.00) took -0.00 sec\r"
     ]
    }
   ],
   "source": [
    "# define the azimuth angles (horizontal FOV) that we want to look at \n",
    "theta_s, theta_e = 70, 130\n",
    "theta_res = 1\n",
    "bf_output, theta = beamform_1d(beat_freq, theta_s,theta_e,theta_res,ant_pos)"
   ]
  },
  {
   "cell_type": "markdown",
   "metadata": {},
   "source": [
    "Once we've performed beamforming on this 1D array, we can plot the corresponding images. In this example below, we have plotted the birds eye view for you. You can play around with the normalization to see how different thresholds impact the final image and what reflectors you can see. "
   ]
  },
  {
   "cell_type": "code",
   "execution_count": 25,
   "metadata": {},
   "outputs": [
    {
     "data": {
      "text/plain": [
       "<matplotlib.image.AxesImage at 0x7f7e887f0190>"
      ]
     },
     "execution_count": 25,
     "metadata": {},
     "output_type": "execute_result"
    },
    {
     "data": {
      "image/png": "[encoded data removed]",
      "text/plain": [
       "<Figure size 640x480 with 1 Axes>"
      ]
     },
     "metadata": {},
     "output_type": "display_data"
    }
   ],
   "source": [
    "plot_lim_y = [100,140]\n",
    "plot_lim_x = [70 - theta_s,129 - theta_s]\n",
    "to_plot = bf_output\n",
    "to_plot = to_plot[plot_lim_x[0]:plot_lim_x[1],plot_lim_y[0]:plot_lim_y[1]]\n",
    "to_plot = to_plot/np.max(np.reshape(to_plot,(1,-1))) \n",
    "to_plot = to_plot[:,::-1]**2\n",
    "plt.imshow(abs((to_plot).T), extent=[theta[plot_lim_x[0]]-np.pi/2, theta[plot_lim_x[1]]-np.pi/2,plot_lim_y[0] * 0.041763,plot_lim_y[1] * 0.041763],cmap = 'jet',  vmin=0, vmax=0.7) # this is giving the y axis in meters, and x axis in angles "
   ]
  },
  {
   "cell_type": "markdown",
   "metadata": {},
   "source": [
    "<h5> 2. Matched Filter:</h5> \n",
    "Here we will compute the matched filter output but for a more complex antenna pattern. If you take a look at this function and the one in exercise_1.ipynb it should be virtually the same. "
   ]
  },
  {
   "cell_type": "code",
   "execution_count": 26,
   "metadata": {},
   "outputs": [],
   "source": [
    "######## 1D Imaging in Cartesian #############\n",
    "def matched_filter_1d(raw_data_1d, num_x_cells, num_y_cells, x_radar_tx, x_radar_rx):\n",
    "    \"\"\"\n",
    "    Computes the 1D matched filter result for raw data, this is done along the X, Y dimensions (results in a birds eye view image).\n",
    "\n",
    "    Paramters:\n",
    "    - raw_data_1d: raw ADC data (size: num Tx * num Rx, num ADC samples)\n",
    "    - num_x_cells: discrete locations in X (horizontal) that you want to compute the power of\n",
    "    - num_y_cells: discrete locations in Y (range/depth) that you want to compute the power of\n",
    "    - x_radar_tx: positions of the transmitters \n",
    "    - x_radar_rx: positions of the receivers \n",
    "\n",
    "    Returns:\n",
    "    - MF_output: matched filter output\n",
    "    \"\"\"\n",
    "    c = 2.9979\n",
    "    fc_start =  773.704\n",
    "    chirpSlope = 70.295e12\n",
    "    adcSampleRate = 10e6\n",
    "    As_sci = (chirpSlope/1e8)\n",
    "\n",
    "    MF_output = np.zeros((len(num_x_cells),len(num_y_cells)),dtype=complex)\n",
    "\n",
    "    for i,cell_x in enumerate(num_x_cells):\n",
    "        for j,cell_y in enumerate(num_y_cells):\n",
    "                start_time = time.time()\n",
    "\n",
    "                cell_dist = np.sqrt((x_radar_tx - cell_x)**2 + (cell_y)**2) + np.sqrt((cell_x - x_radar_rx)**2 + (cell_y)**2)\n",
    "                cell_dist = cell_dist + 0.15 # account for range bias\n",
    "                temp_tau = (cell_dist)/c\n",
    "                \n",
    "                temp_sig_phase = 2.0*np.pi*fc_start*temp_tau\n",
    "                total_phase = np.repeat(temp_sig_phase,adc_samples,axis=1) + 2.0 * np.pi * As_sci * (np.arange(0,adc_samples).T / adcSampleRate) * temp_tau\n",
    "                temp_real = np.cos(total_phase)\n",
    "                temp_imag = -np.sin(total_phase)\n",
    "                MF_output[i,j] = MF_output[i,j] + np.sum((raw_data_1d *  (temp_real + temp_imag*1j)),axis=(0,1))\n",
    "                            \n",
    "                print(\"Processed cell (%.2f,%.2f) took %.2f sec\" % (cell_x,cell_y, start_time - time.time()), end='\\r')\n",
    "    return MF_output "
   ]
  },
  {
   "cell_type": "markdown",
   "metadata": {},
   "source": [
    "Now we will reshape the raw data and create the cartesian coordinates that we will calculate outputs for. \n",
    "Again because this is a 1D matched fitler implementation, we will take a sample from the center of the 2D aperture. *num_x_cells* denotes the x coordinates that we will compute correlations for, and *num_y_cells* will denote the y coordinates that we compute correlations for. \n",
    "\n",
    "We also will define the antenna positions for the transmitter and the receivers. Again, to match the dimensions of the receivers when doing matrix addition, we create an array of the transmitter locations where every 4 spots will be the same location so as to match the number of receivers when calculating round trip distance. The transmitter location moves by $\\lambda$/2 each time (which is just the *x_pos* array), and we repeat that 4 times for the 4 receivers. We then also have the shift the transmitter location by (0.005 + 3 $\\lambda$/2). \n",
    "\n",
    "The receiver locations are just defined as *ant_pos*."
   ]
  },
  {
   "cell_type": "code",
   "execution_count": 37,
   "metadata": {},
   "outputs": [
    {
     "name": "stdout",
     "output_type": "stream",
     "text": [
      "Processed cell (1.50,6.75) took -0.00 secc\r"
     ]
    }
   ],
   "source": [
    "X = np.squeeze(raw_data[:,0,:,:,:]) # for matched filter we use the raw data directly!\n",
    "X = np.reshape(X,(-1,adc_samples))\n",
    "\n",
    "num_x_cells = np.arange(-1.5,1.5+0.025,0.05)\n",
    "num_y_cells = np.arange(4.2,6.8,0.05)\n",
    "\n",
    "x_radar_tx = np.reshape(np.repeat(x_pos,4),(-1,1)) - 0.005 - 3 * lm / 2\n",
    "x_radar_rx = ant_pos\n",
    "\n",
    "# print(x_pos)\n",
    "MF_output = matched_filter_1d(X, num_x_cells, num_y_cells, x_radar_tx, x_radar_rx)"
   ]
  },
  {
   "cell_type": "markdown",
   "metadata": {},
   "source": [
    "Now we will plot the heatmap computed below."
   ]
  },
  {
   "cell_type": "code",
   "execution_count": 34,
   "metadata": {},
   "outputs": [
    {
     "data": {
      "text/plain": [
       "<matplotlib.image.AxesImage at 0x7f7e9864f7f0>"
      ]
     },
     "execution_count": 34,
     "metadata": {},
     "output_type": "execute_result"
    },
    {
     "data": {
      "image/png": "[encoded data removed]",
      "text/plain": [
       "<Figure size 640x480 with 1 Axes>"
      ]
     },
     "metadata": {},
     "output_type": "display_data"
    }
   ],
   "source": [
    "to_plot = MF_output\n",
    "to_plot = to_plot/np.max(np.reshape(to_plot,(1,-1)))\n",
    "to_plot = to_plot[:,:]**2\n",
    "plt.imshow(abs((to_plot).T), extent=[num_x_cells[0], num_x_cells[-1], num_y_cells[0], num_y_cells[-1]],cmap = 'jet',  vmin=0, vmax=0.3) # this is giving the y axis in meters, and x axis in angles "
   ]
  },
  {
   "cell_type": "markdown",
   "metadata": {},
   "source": [
    "Now you should've seen two examples of doing 1D beamforming and matched filter. In these cases, we are assuming the antenna array is one dimensional, so the antennas only have differing x-positions and the same z-positions. In the next notebook, we will be evaluating your code. In that case you will extend the 1D beamforming and matched filter to 2D. This means in these examples we will use the fully scanned locations, and this will mean you need to take into account the z-positions as well!"
   ]
  },
  {
   "cell_type": "markdown",
   "metadata": {},
   "source": []
  }
 ],
 "metadata": {
  "kernelspec": {
   "display_name": "Python 3 (ipykernel)",
   "language": "python",
   "name": "python3"
  },
  "language_info": {
   "codemirror_mode": {
    "name": "ipython",
    "version": 3
   },
   "file_extension": ".py",
   "mimetype": "text/x-python",
   "name": "python",
   "nbconvert_exporter": "python",
   "pygments_lexer": "ipython3",
   "version": "3.10.13"
  }
 },
 "nbformat": 4,
 "nbformat_minor": 4
}
