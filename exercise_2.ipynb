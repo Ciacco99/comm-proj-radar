{
 "cells": [
  {
   "cell_type": "markdown",
   "metadata": {},
   "source": [
    "<h1> Exercises 2: More complex radar data!</h1>\n",
    "In this notebook we have a few exercises and examples of code such that you can run it, play around with it to better understand how radar signal processing is performed in Python. "
   ]
  },
  {
   "cell_type": "code",
   "execution_count": 26,
   "metadata": {},
   "outputs": [],
   "source": [
    "\n",
    "import numpy as np\n",
    "import matplotlib.pyplot as plt\n",
    "import os\n",
    "import scipy\n",
    "import scipy.io as sio\n",
    "import time"
   ]
  },
  {
   "cell_type": "markdown",
   "metadata": {},
   "source": [
    "<h5> 1. Beamforming </h5>\n",
    "\n",
    "To help understand some of the ways to visualize radar data better, we have provided some processed data and some examples of Python plotting code to play around with. First we will go through the process of beamforming and show the bird eye view (BEV) heatmaps we can recover from this.\n",
    "For beamforming, it requires knowing a few details about the antenna array that captured the data. We will describe it in more detail below.\n",
    "For the rest of this section, the horizontal dimension will be defined as *x*, vertical as *z*, and depth will be defined by *y*. \n",
    "\n",
    "First, we load the data provided.\n"
   ]
  },
  {
   "cell_type": "code",
   "execution_count": 171,
   "metadata": {},
   "outputs": [],
   "source": [
    "# TODO: Put the *path* to the project folder\n",
    "home_dir = r\"/Users/shanbhag/Documents/School/comm-proj-radars\"\n",
    "\n",
    "# loading data that is given\n",
    "filename = r\"data_008\"\n",
    "data_dir = r\"given_data\"\n",
    "mat_data = sio.loadmat(os.path.join(home_dir,data_dir,filename + '.mat'))\n",
    "raw_data = mat_data['adcData']\n",
    "num_x_stp, num_z_stp, num_tx, num_rx, adc_samples = raw_data.shape\n"
   ]
  },
  {
   "cell_type": "markdown",
   "metadata": {},
   "source": [
    "Now we will describe the antenna array pattern. The data provided was taken by scanning a much smaller radar and set of antennas to emulate a larger antenna array. This is also known as SAR (Synthetic Aperture Radar), which you have seen in the pre-recorded lectures.\n",
    "\n",
    "The scanning radar has 1 transmitter and 4 receivers, which are spaced $\\lambda$/2 apart. This pattern is defined in the variable *rx_pos*. Then, we scan the radar horizontally and vertically. In this portion, only the horizontal scan is used, and we leave the implementation of recreating the 2D image for the evaluation.\n",
    "The radar is moved along the x-axis 80 times, each time moving by a distance $\\lambda$, which you can see is defined by the variable *x_pos*. Finally, *ant_pos* defines the total antenna scanning pattern. "
   ]
  },
  {
   "cell_type": "code",
   "execution_count": 172,
   "metadata": {},
   "outputs": [],
   "source": [
    "# define the antenna spacing\n",
    "lm = 3e8/77e9 # define lambda for the antenna spacing\n",
    "rx_pos = np.reshape(np.arange(1,5,dtype=float),(-1,1))\n",
    "x_pos = -(np.reshape(np.arange(1,81,dtype=float),(-1,1)) * lm  / 2)\n",
    "ant_pos = np.reshape(rx_pos.T * x_pos ,(-1,1))\n",
    "ant_pos = ant_pos - ant_pos[0]\n",
    "x_pos = x_pos - x_pos[0]\n"
   ]
  },
  {
   "cell_type": "markdown",
   "metadata": {},
   "source": [
    "In some cases, there is a lot of self-interference between the antennas when we scan, and it appears as a very very strong signal very close to the radar. Thus, we sometimes will pass the raw signal through a highpass filter to get rid of the strong signals at the lower frequencies. You can try with and without this highpass filter and see how it affects the images. "
   ]
  },
  {
   "cell_type": "code",
   "execution_count": 190,
   "metadata": {},
   "outputs": [],
   "source": [
    "################# Change the values based on how much of the azimuth angles you want to see and the resolution ##################\n",
    "# Define field of view in degrees that you want to process in theta \n",
    "def beamform_1d(beat_freq_data, theta_s, theta_e,theta_res,locs):\n",
    "    \"\"\"\n",
    "    Performs 1D beamforming along the azimuth (horizontal) dimension, this results in a bird eye view image.\n",
    "\n",
    "    Paramters:\n",
    "    - beat_freq_data: beat data AKA the range FFT (size: num TX * num RX, num ADC samples)\n",
    "    - theta_s: first angle that you want to start computing \n",
    "    - theta_e: last angle that you want to compute \n",
    "    - theta_res: resolution of the angles you want to compute\n",
    "    - locs: antenna locations\n",
    "\n",
    "    Returns:\n",
    "    - sph_pwr: beamformed result\n",
    "    - theta: the array of the angles computed\n",
    "    \"\"\"\n",
    "    # Convert everything to Radians \n",
    "    theta_s_r = theta_s * (np.pi/180)\n",
    "    theta_e_r = theta_e * (np.pi/180)\n",
    "    theta_res*= (np.pi/180)\n",
    "    theta_rad_lim = [theta_s_r,theta_e_r]\n",
    "\n",
    "    # Generate arrays for theta \n",
    "    theta = np.arange(theta_rad_lim[0], theta_rad_lim[1], theta_res)\n",
    "    N_theta = len(theta)\n",
    "\n",
    "    # Initialize arrays for spherical power\n",
    "    sph_pwr = np.zeros((N_theta, adc_samples), dtype=complex)\n",
    "\n",
    "    print(\"Running this many iterations: %d \" % (N_theta))\n",
    "\n",
    "    ######################## BF Calculations ###########################3\n",
    "    for kt in range(N_theta):\n",
    "        start_time = time.time()\n",
    "        cos_theta = np.cos(theta[kt]) # angle that the signal is coming from\n",
    "\n",
    "        Vec = np.exp(1j*(2*np.pi*(locs*cos_theta)/lm)) \n",
    "        # Vec = np.exp(1j*(2*np.pi*(locs*cos_theta)/lm))\n",
    "        VecRFI = np.squeeze(np.repeat(Vec[:, np.newaxis], adc_samples, axis=1))\n",
    "        sph_pwr[kt, :] = np.squeeze(np.sum(np.multiply(np.squeeze(beat_freq_data),VecRFI), axis=(0)))        \n",
    "        print(\"Processed angle (%.2f) took %.2f sec\" % (theta[kt]*180/np.pi, start_time - time.time()), end='\\r')\n",
    "    return sph_pwr, theta"
   ]
  },
  {
   "cell_type": "code",
   "execution_count": 191,
   "metadata": {},
   "outputs": [],
   "source": [
    "# just look at one vertical dimension since we are not using elevation\n",
    "X = raw_data[:,0,:,:,:]\n",
    "beat_freq = scipy.fft.fft(X, axis=-1)\n",
    "beat_freq = np.reshape(beat_freq,(-1,adc_samples))"
   ]
  },
  {
   "cell_type": "code",
   "execution_count": 192,
   "metadata": {},
   "outputs": [
    {
     "name": "stdout",
     "output_type": "stream",
     "text": [
      "Running this many iterations: 61 \n",
      "Processed angle (130.00) took -0.00 sec\r"
     ]
    }
   ],
   "source": [
    "# define the azimuth angles (horizontal FOV) that we want to look at \n",
    "theta_s, theta_e = 70, 130\n",
    "theta_res = 1\n",
    "bf_output, theta = beamform_1d(beat_freq, theta_s,theta_e,theta_res,ant_pos)"
   ]
  },
  {
   "cell_type": "markdown",
   "metadata": {},
   "source": [
    "Once we've performed beamforming on this 1D array, we can plot the corresponding images. In this example below, we have plotted the birds eye view for you. You can play around with the normalization to see how different thresholds impact the final image and what reflectors you can see. "
   ]
  },
  {
   "cell_type": "code",
   "execution_count": 193,
   "metadata": {},
   "outputs": [
    {
     "data": {
      "text/plain": [
       "<matplotlib.image.AxesImage at 0x7fe0f9929660>"
      ]
     },
     "execution_count": 193,
     "metadata": {},
     "output_type": "execute_result"
    },
    {
     "data": {
      "image/png": "[encoded data removed]",
      "text/plain": [
       "<Figure size 640x480 with 1 Axes>"
      ]
     },
     "metadata": {},
     "output_type": "display_data"
    }
   ],
   "source": [
    "plot_lim_y = [100,140]\n",
    "plot_lim_x = [70 - theta_s,129 - theta_s]\n",
    "to_plot = bf_output\n",
    "to_plot = to_plot[plot_lim_x[0]:plot_lim_x[1],plot_lim_y[0]:plot_lim_y[1]]\n",
    "to_plot = to_plot/np.max(np.reshape(to_plot,(1,-1)))\n",
    "to_plot = to_plot[:,::-1]**2\n",
    "plt.imshow(abs((to_plot).T), extent=[theta[plot_lim_x[0]]-np.pi/2, theta[plot_lim_x[1]]-np.pi/2,plot_lim_y[0] * 0.041763,plot_lim_y[1] * 0.041763],cmap = 'jet',  vmin=0, vmax=0.7) # this is giving the y axis in meters, and x axis in angles "
   ]
  },
  {
   "cell_type": "markdown",
   "metadata": {},
   "source": [
    "<h5> 2. Matched Filter:</h5> \n",
    "Here we will compute the matched filter output for the captured data. We calculate the round trip distance of each point in x,y,z, and correlate it with the raw data. \n",
    "Please see the lectures for more details on Matched Filter. "
   ]
  },
  {
   "cell_type": "code",
   "execution_count": 114,
   "metadata": {},
   "outputs": [],
   "source": [
    "######## 1D Imaging in Cartesian #############\n",
    "def matched_filter_1d(raw_data_1d, num_x_cells, num_y_cells, x_radar_tx, x_radar_rx):\n",
    "    \"\"\"\n",
    "    Computes the 1D matched filter result for raw data, this is done along the X, Y dimensions (results in a birds eye view image).\n",
    "\n",
    "    Paramters:\n",
    "    - raw_data_1d: raw ADC data (size: num Tx * num Rx, num ADC samples)\n",
    "    - num_x_cells: discrete locations in X (horizontal) that you want to compute the power of\n",
    "    - num_y_cells: discrete locations in Y (range/depth) that you want to compute the power of\n",
    "    - x_radar_tx: positions of the transmitters \n",
    "    - x_radar_rx: positions of the receivers \n",
    "\n",
    "    Returns:\n",
    "    - MF_output: matched filter output\n",
    "    \"\"\"\n",
    "    c = 2.9979\n",
    "    fc_start =  773.704\n",
    "    chirpSlope = 70.295e12\n",
    "    adcSampleRate = 10e6\n",
    "    As_sci = (chirpSlope/1e8)\n",
    "\n",
    "    MF_output = np.zeros((len(num_x_cells),len(num_y_cells)),dtype=complex)\n",
    "\n",
    "    for i,cell_x in enumerate(num_x_cells):\n",
    "        for j,cell_y in enumerate(num_y_cells):\n",
    "                start_time = time.time()\n",
    "\n",
    "                cell_dist = np.sqrt((x_radar_tx - cell_x)**2 + (cell_y)**2) + np.sqrt((cell_x - x_radar_rx)**2 + (cell_y)**2)\n",
    "                cell_dist = cell_dist + 0.15 # account for range bias\n",
    "                temp_tau = (cell_dist)/c\n",
    "                \n",
    "                temp_sig_phase = 2.0*np.pi*fc_start*temp_tau\n",
    "                total_phase = np.repeat(temp_sig_phase,adc_samples,axis=1) + 2.0 * np.pi * As_sci * (np.arange(0,adc_samples).T / adcSampleRate) * temp_tau\n",
    "                temp_real = np.cos(total_phase)\n",
    "                temp_imag = -np.sin(total_phase)\n",
    "                MF_output[i,j] = MF_output[i,j] + np.sum((raw_data_1d *  (temp_real + temp_imag*1j)),axis=(0,1))\n",
    "                            \n",
    "                print(\"Processed cell (%.2f,%.2f) took %.2f sec\" % (cell_x,cell_y, start_time - time.time()), end='\\r')\n",
    "    return MF_output "
   ]
  },
  {
   "cell_type": "markdown",
   "metadata": {},
   "source": [
    "Now we will reshape the raw data and create the cartesian coordinates that we will calculate outputs for. \n",
    "Again because this is a 1D matched fitler implementation, we will take a sample from the center of the 2D aperture. *num_x_cells* denotes the x coordinates that we will compute correlations for, and *num_y_cells* will denote the y coordinates that we compute correlations for. "
   ]
  },
  {
   "cell_type": "code",
   "execution_count": 187,
   "metadata": {},
   "outputs": [
    {
     "name": "stdout",
     "output_type": "stream",
     "text": [
      "Processed cell (1.50,7.95) took -0.00 secc\r"
     ]
    }
   ],
   "source": [
    "X = np.squeeze(raw_data[:,100,:,:,:]) # for matched filter we use the raw data directly!\n",
    "X = np.reshape(X,(-1,adc_samples))\n",
    "\n",
    "num_x_cells = np.arange(-1.5,1.5+0.025,0.05)\n",
    "num_y_cells = np.arange(2,8,0.05)\n",
    "\n",
    "x_radar_tx = np.reshape(np.repeat(x_pos,4),(-1,1)) - 0.005 - 3 * lm / 2\n",
    "x_radar_rx = ant_pos\n",
    "# print(x_radar_rx)\n",
    "\n",
    "# print(x_pos)\n",
    "MF_output = matched_filter_1d(X, num_x_cells, num_y_cells, x_radar_tx, x_radar_rx)"
   ]
  },
  {
   "cell_type": "markdown",
   "metadata": {},
   "source": [
    "Now we will plot the heatmap computed below."
   ]
  },
  {
   "cell_type": "code",
   "execution_count": 188,
   "metadata": {},
   "outputs": [
    {
     "data": {
      "text/plain": [
       "<matplotlib.image.AxesImage at 0x7fe0f98d4fa0>"
      ]
     },
     "execution_count": 188,
     "metadata": {},
     "output_type": "execute_result"
    },
    {
     "data": {
      "image/png": "[encoded data removed]",
      "text/plain": [
       "<Figure size 640x480 with 1 Axes>"
      ]
     },
     "metadata": {},
     "output_type": "display_data"
    }
   ],
   "source": [
    "to_plot = MF_output\n",
    "to_plot = to_plot/np.max(np.reshape(to_plot,(1,-1)))\n",
    "to_plot = to_plot[:,:]**2\n",
    "plt.imshow(abs((to_plot).T), extent=[num_x_cells[0], num_x_cells[-1], num_y_cells[0], num_y_cells[-1]],cmap = 'jet',  vmin=0, vmax=0.5) # this is giving the y axis in meters, and x axis in angles "
   ]
  },
  {
   "cell_type": "code",
   "execution_count": null,
   "metadata": {},
   "outputs": [],
   "source": []
  }
 ],
 "metadata": {
  "kernelspec": {
   "display_name": "Python 3 (ipykernel)",
   "language": "python",
   "name": "python3"
  },
  "language_info": {
   "codemirror_mode": {
    "name": "ipython",
    "version": 3
   },
   "file_extension": ".py",
   "mimetype": "text/x-python",
   "name": "python",
   "nbconvert_exporter": "python",
   "pygments_lexer": "ipython3",
   "version": "3.10.13"
  }
 },
 "nbformat": 4,
 "nbformat_minor": 4
}
