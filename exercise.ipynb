{
 "cells": [
  {
   "cell_type": "markdown",
   "metadata": {},
   "source": [
    "<h1> Exercises </h1>\n",
    "In this notebook we have a few exercises and examples of code such that you can run it, play around with it to better understand how radar signal processing is performed in Python. "
   ]
  },
  {
   "cell_type": "code",
   "execution_count": 1,
   "metadata": {},
   "outputs": [],
   "source": [
    "\n",
    "import numpy as np\n",
    "import matplotlib.pyplot as plt\n",
    "import os\n",
    "import scipy\n",
    "import scipy.io as sio\n",
    "import processing.save_adc_data as sd\n",
    "import processing._process_data as pd\n"
   ]
  },
  {
   "cell_type": "markdown",
   "metadata": {},
   "source": [
    "<h5> 1. Setting up Paths and Loading Data: </h5>\n",
    "To load your data, please make sure the file paths are all correct. The variables/functions are setup expecting a specific way of your project directory organization, however it is up to you how you want to organize it. Step through these variables to make sure you are loading what is expected. \n",
    "\n",
    "In the end, it is up to you how you want to link the paths. We've set it up in a way that should work if you follow the path conventions however you are welcome to look through all the functions called in order to determine how you want to input path names."
   ]
  },
  {
   "cell_type": "code",
   "execution_count": 2,
   "metadata": {},
   "outputs": [],
   "source": [
    "# TODO: Put the *name* of your .bin file here (excluding the .bin)\n",
    "filename = r\"1\"\n",
    "# TODO: Put the *path* to the project folder\n",
    "home_dir = r\"/Users/shanbhag/Documents/School/comm-proj-radars\"\n",
    "# TODO: Put the path (relative to home_dir) of the captured data folder\n",
    "capture_data_dir = r\"data\"\n",
    "# TODO: Put the path (relative to home_dir) and name of the JSON files (exlude the .setup.json and .mmwave.json)\n",
    "json_filename = r\"scripts/chirp1\"\n",
    "path_to_rawdata = os.path.join(home_dir,capture_data_dir,\"rdc_\" + filename + '.mat')\n",
    "bin_data = sio.loadmat(os.path.join(home_dir,capture_data_dir,\"rdc_\" + filename + '.mat'))"
   ]
  },
  {
   "cell_type": "markdown",
   "metadata": {},
   "source": [
    "Loading the data requires loading the *.bin file you measured and converting it to a *.mat file. You only have to do this conversion once if the data has not changed in that file. Then we load the *.mat file and extract the raw data."
   ]
  },
  {
   "cell_type": "code",
   "execution_count": 3,
   "metadata": {},
   "outputs": [
    {
     "name": "stdout",
     "output_type": "stream",
     "text": [
      "You captured 20 frames, for 3 TX, 4 Rx, and 512 adc samples\n"
     ]
    }
   ],
   "source": [
    "############################# Reformat the Data #############################\n",
    "if not os.path.exists(os.path.join(home_dir,capture_data_dir,\"rdc_\" + filename + '.mat')):\n",
    "    sd.save_adc_data(filename, home_dir, capture_data_dir, json_filename)\n",
    "\n",
    "################################# load data #################################\n",
    "bin_data = sio.loadmat(os.path.join(home_dir,capture_data_dir,\"rdc_\" + filename + '.mat'))\n",
    "raw_data = np.array(bin_data['data_raw'])\n",
    "\n",
    "print(\"You captured %d frames, for %d TX, %d Rx, and %d adc samples\" % raw_data.shape)"
   ]
  },
  {
   "cell_type": "markdown",
   "metadata": {},
   "source": [
    "<h5> 2. Range FFT: </h5> \n",
    "\n",
    "There is some simple signal processing we can do to have a coarse understanding of what we've received. Below, is code for processing and plotting the range FFT as you have seen in the lectures. Based on this you should also be able to locate the strongest reflector and recover the distance of that reflector. "
   ]
  },
  {
   "cell_type": "code",
   "execution_count": 4,
   "metadata": {},
   "outputs": [
    {
     "data": {
      "text/plain": [
       "[<matplotlib.lines.Line2D at 0x7f8300d11900>]"
      ]
     },
     "execution_count": 4,
     "metadata": {},
     "output_type": "execute_result"
    },
    {
     "data": {
      "image/png": "[encoded data removed]",
      "text/plain": [
       "<Figure size 640x480 with 1 Axes>"
      ]
     },
     "metadata": {},
     "output_type": "display_data"
    }
   ],
   "source": [
    "############################### process data! ################################\n",
    "# Range FFT\n",
    "rfft = scipy.fft.fft(raw_data, axis=3)\n",
    "plt.plot(abs(np.squeeze(np.sum(rfft[:,:,:,0:50],axis=(0,2,1)))))\n"
   ]
  },
  {
   "cell_type": "code",
   "execution_count": 62,
   "metadata": {},
   "outputs": [],
   "source": [
    "######## Find the distance of the maximum reflector in front of the radar. #############\n",
    "# TODO: add your code here"
   ]
  },
  {
   "cell_type": "markdown",
   "metadata": {},
   "source": [
    "<h5> 3. Beamforming </h5>\n",
    "\n",
    "To help understand some of the ways to visualize radar data better especially in 2D or 3D, we have provided some processed data and some examples of Python plotting code to play around with. First we will go through the process of beamforming and show the heatmaps we can recover from this."
   ]
  },
  {
   "cell_type": "code",
   "execution_count": 20,
   "metadata": {},
   "outputs": [],
   "source": [
    "# TODO: Put the *path* to the project folder\n",
    "home_dir = r\"/Users/shanbhag/Documents/School/comm-proj-radars\"\n",
    "\n",
    "# loading data that is given\n",
    "filename = r\"BF_data1_taj_far\"\n",
    "data_dir = r\"given_data\"\n",
    "mat_data = sio.loadmat(os.path.join(home_dir,data_dir,filename + '.mat'))\n",
    "\n",
    "# define the antenna spacing\n",
    "lm = 3e8/77e9 # define lambda for the antenna spacing\n",
    "rx_pos = np.reshape(np.arange(1,5,dtype=float),(-1,1))\n",
    "x_pos = (np.reshape(np.arange(1,81,dtype=float),(-1,1)) * lm).T\n",
    "ant_pos = rx_pos * x_pos \n",
    "raw_data = mat_data['adcData']\n",
    "raw_data_hpf = np.zeros(raw_data.shape,dtype=complex)\n",
    "\n",
    "# high pass filter to remove artifacts right in front of the radar \n",
    "for ii in range(raw_data.shape[0]):\n",
    "    raw_data_hpf[ii,:] = pd.butter_highpass_filter(raw_data[ii,:],350000,10e6)\n",
    "\n",
    "num_x_stp, num_z_stp, num_tx, num_rx, adc_samples = raw_data.shape\n",
    "# just look at one vertical dimension since we are not using phi\n",
    "X = raw_data_hpf[:,num_z_stp//2,:,:,:]\n",
    "locs = np.reshape(ant_pos,(-1,1))\n",
    "beat_freq = scipy.fft.fft(X, axis=-1)\n",
    "beat_freq = np.reshape(beat_freq,(-1,adc_samples))"
   ]
  },
  {
   "cell_type": "code",
   "execution_count": 23,
   "metadata": {},
   "outputs": [
    {
     "name": "stdout",
     "output_type": "stream",
     "text": [
      "Running this many iterations: 100 \n",
      "Processed angle (139.00)\r"
     ]
    }
   ],
   "source": [
    "################# Change the values based on how much of the azimuth angles you want to see and the resolution ##################\n",
    "# Define field of view in degrees that you want to process in theta \n",
    "theta_s, theta_e = 40, 140\n",
    "# resolution of the angles\n",
    "theta_res = 1\n",
    "\n",
    "# Convert everything to Radians \n",
    "theta_s *= (np.pi/180)\n",
    "theta_e *= (np.pi/180)\n",
    "theta_res*= (np.pi/180)\n",
    "theta_rad_lim = [theta_s,theta_e]\n",
    "\n",
    "# Generate arrays for theta \n",
    "theta = np.arange(theta_rad_lim[0], theta_rad_lim[1], theta_res)\n",
    "N_theta = len(theta)\n",
    "\n",
    "# Initialize arrays for spherical power\n",
    "sph_pwr = np.zeros((N_theta, adc_samples), dtype=complex)\n",
    "\n",
    "print(\"Running this many iterations: %d \" % (N_theta))\n",
    "\n",
    "######################## BF Calculations ###########################3\n",
    "for kt in range(N_theta):\n",
    "        for adc in range(adc_samples):\n",
    "                sin_theta = np.sin(theta[kt])\n",
    "                Vec = np.exp(1j*(2*np.pi*(locs*sin_theta)/lm)).T\n",
    "                VecRFI = np.repeat(Vec[:, np.newaxis], adc_samples, axis=1)\n",
    "                # VecRFI = np.reshape(VecRFI, (VecRFI.shape[0],1,VecRFI.shape[1],VecRFI.shape[2]))\n",
    "                sph_pwr[kt, adc] = np.squeeze(np.sum(np.multiply(np.squeeze(beat_freq[:,adc]), np.squeeze(VecRFI[:,adc])), axis=(0)))\n",
    "                print(\"Processed angle (%.2f)\" % (theta[kt]*180/np.pi), end='\\r')\n"
   ]
  },
  {
   "cell_type": "code",
   "execution_count": 26,
   "metadata": {},
   "outputs": [
    {
     "data": {
      "text/plain": [
       "<matplotlib.image.AxesImage at 0x7f83085a7ca0>"
      ]
     },
     "execution_count": 26,
     "metadata": {},
     "output_type": "execute_result"
    },
    {
     "data": {
      "image/png": "[encoded data removed]",
      "text/plain": [
       "<Figure size 640x480 with 1 Axes>"
      ]
     },
     "metadata": {},
     "output_type": "display_data"
    }
   ],
   "source": [
    "plot_lim = [80,128]\n",
    "to_plot = sph_pwr[:,plot_lim[1]:plot_lim[0]:-1]**2\n",
    "plt.imshow(abs(to_plot.T), extent=[theta_s, theta_e,plot_lim[0] * 0.04,plot_lim[1] * 0.04]) # this is giving the y axis in meters, and x axis in angles "
   ]
  },
  {
   "cell_type": "markdown",
   "metadata": {},
   "source": [
    "Once we've performed beamforming on this 1D array, we can plot the corresponding images. In this example below, we have plotted the birds eye view for you. You can play around with the normalization to see how different thresholds impact the final image and what reflectors you can see. "
   ]
  },
  {
   "cell_type": "markdown",
   "metadata": {},
   "source": [
    "<h5> 4. Matched Filter:</h5> \n",
    "\n",
    "Find the distance of the maximum reflector in the enivornment for the two data files provided. Show your code and print out the values in the next cell."
   ]
  },
  {
   "cell_type": "code",
   "execution_count": null,
   "metadata": {},
   "outputs": [],
   "source": []
  },
  {
   "cell_type": "markdown",
   "metadata": {},
   "source": [
    "<h5>Exercise 2:</h5> Now you will have to fill in some code we provide for different methods of radar imaging. Here we have given you the skeleton of the code for a 2D beamforming algorithm which you must fill in to get the 2D heatmap of the scene in polar coordinates."
   ]
  },
  {
   "cell_type": "code",
   "execution_count": 5,
   "metadata": {},
   "outputs": [],
   "source": [
    "rx_pos2d = np.reshape(np.arange(1,5,dtype=float),(-1,1))\n",
    "x_pos2d = (np.reshape(np.arange(1,81,dtype=float),(-1,1)) * lm).T\n",
    "x_pos2d = np.reshape(rx_pos2d * x_pos2d,(-1,1))\n",
    "z_pos2d = np.reshape(np.arange(0,num_z_stp),(-1,1)).T * (300/lm/4/num_z_stp) \n",
    "ant_pos2d = x_pos2d * z_pos2d\n",
    "X2d = raw_data\n",
    "locs = ant_pos2d\n",
    "\n",
    "beat_freq2d = np.squeeze(scipy.fft.fft(X2d, axis=-1))\n",
    "beat_freq2d = np.transpose(beat_freq2d,(0,2,1,3))\n",
    "beat_freq2d = np.reshape(beat_freq2d, (-1,num_z_stp,adc_samples)) # size (num x staps * rx, num z stps, adc samples)s\n",
    "# beat_freq2d= np.reshape(beat_freq2d,(-1,adc_samples))"
   ]
  },
  {
   "cell_type": "code",
   "execution_count": null,
   "metadata": {},
   "outputs": [],
   "source": [
    "######## 2D Imaging in Polar #############\n",
    "# Define field of view in degrees that you want to process in theta \n",
    "theta_s, theta_e = 20, 160\n",
    "# resolution of the angles\n",
    "theta_res = 15\n",
    "\n",
    "# Convert everything to Radians \n",
    "theta_s *= (np.pi/180)\n",
    "theta_e *= (np.pi/180)\n",
    "theta_res*= (np.pi/180)\n",
    "theta_rad_lim = [theta_s,theta_e]\n",
    "\n",
    "# Generate arrays for theta \n",
    "theta = np.arange(theta_rad_lim[0], theta_rad_lim[1], theta_res)\n",
    "N_theta = len(theta)\n",
    "\n",
    "# Define field of view in degrees that you want to process in theta \n",
    "phi_s, phi_e = 20, 160\n",
    "# resolution of the angles\n",
    "phi_res = 15\n",
    "\n",
    "# Convert everything to Radians \n",
    "phi_s *= (np.pi/180)\n",
    "phi_e *= (np.pi/180)\n",
    "phi_res*= (np.pi/180)\n",
    "phi_rad_lim = [phi_s,phi_e]\n",
    "\n",
    "# Generate arrays for theta \n",
    "phi = np.arange(phi_rad_lim[0], phi_rad_lim[1], phi_res)\n",
    "N_phi = len(phi)\n",
    "\n",
    "z_idx = np.repeat(z_pos2d[np.newaxis,:], num_x_stp * num_rx, axis = 0)\n",
    "x_idx = np.repeat(x_pos2d[:,np.newaxis], num_z_stp, axis = 1)\n",
    "\n",
    "for kt in range(N_theta):\n",
    "    for kp in range(N_phi):\n",
    "        cos_theta = np.cos(theta[kt])\n",
    "        sin_theta = np.sin(theta[kt])\n",
    "        sin_phi = np.sin(phi[kp])\n",
    "        cos_phi = np.cos(phi[kp])\n",
    "        sinp_cost = sin_phi * cos_theta\n",
    "        sinp_sint = sin_phi * sin_theta\n",
    "        cosp_sint = cos_phi * sin_theta\n",
    "        cosp_cost = cos_phi * cos_theta\n",
    "        Vec = np.exp(1j*(2*np.pi*(z_idx*cos_theta + x_idx*cosp_sint)/lm)) \n",
    "        VecRFI = np.repeat(Vec[:, :, np.newaxis], 2, axis=2)\n",
    "        sph_pwr[kt, kp, :] = np.squeeze(np.sum(np.multiply(beat_freq[:,:,0:2], np.squeeze(VecRFI).T), axis=(0, 1)))\n",
    "        print(\"Processed angle (%.2f,%.2f)\" % (theta[kt]*180/np.pi,phi[kp]*180/np.pi), end='\\r')\n"
   ]
  },
  {
   "cell_type": "markdown",
   "metadata": {},
   "source": [
    "Now finish the code for a 2D matched filter algorithm for 2D heatmap of the scene in cartesian coordinates."
   ]
  },
  {
   "cell_type": "code",
   "execution_count": 68,
   "metadata": {},
   "outputs": [
    {
     "name": "stdout",
     "output_type": "stream",
     "text": [
      "Processed cell (0.55,5.95))\r"
     ]
    }
   ],
   "source": [
    "######## 1D Imaging in Cartesian #############\n",
    "\n",
    "X = np.squeeze(raw_data_hpf[:,num_z_stp//2,:,:,:])\n",
    "\n",
    "dlx = lm\n",
    "c = 2.9979\n",
    "fc_start =  773.704\n",
    "As_sci = 70.295e12\n",
    "adcSampleRate = 10e6\n",
    "\n",
    "num_x_cells = np.arange(-0.4,0.6,0.05)\n",
    "num_y_cells = np.arange(2,6,0.05)\n",
    "\n",
    "MF_output = np.zeros((len(num_x_cells),len(num_y_cells)),dtype=complex)\n",
    "\n",
    "for i,cell_x in enumerate(num_x_cells):\n",
    "    for j,cell_y in enumerate(num_y_cells):\n",
    "            for uu in np.arange(num_x_stp):\n",
    "                for i_rx in np.arange(4):\n",
    "                    x_radar_tx = uu * dlx\n",
    "                    x_radar_rx = uu * dlx + i_rx * lm / 2\n",
    "\n",
    "                    cell_dist = np.sqrt((x_radar_tx - cell_x)**2 + (cell_y)**2) + np.sqrt((cell_x - x_radar_rx)**2 + (cell_y)**2)\n",
    "                    cell_dist = cell_dist + 0.15 # account for range bias\n",
    "                    temp_tau = (cell_dist)/c\n",
    "                    temp_sig_phase = 2.0*np.pi*fc_start*temp_tau\n",
    "                    total_phase = temp_sig_phase + 2.0 * np.pi * As_sci * (np.arange(0,adc_samples) / adcSampleRate) * temp_tau\n",
    "                    temp_real = np.cos(total_phase)\n",
    "                    temp_imag = -np.sin(total_phase)\n",
    "                    MF_output[i,j] = MF_output[i,j] + np.sum((X[uu,i_rx,:] *  (temp_real + temp_imag*1j)),axis=(0))\n",
    "                        \n",
    "            print(\"Processed cell (%.2f,%.2f)\" % (cell_x,cell_y), end='\\r')\n",
    "            "
   ]
  },
  {
   "cell_type": "code",
   "execution_count": 69,
   "metadata": {},
   "outputs": [
    {
     "data": {
      "text/plain": [
       "<matplotlib.image.AxesImage at 0x7f830829ee00>"
      ]
     },
     "execution_count": 69,
     "metadata": {},
     "output_type": "execute_result"
    },
    {
     "data": {
      "image/png": "[encoded data removed]",
      "text/plain": [
       "<Figure size 640x480 with 1 Axes>"
      ]
     },
     "metadata": {},
     "output_type": "display_data"
    }
   ],
   "source": [
    "to_plot = MF_output**2\n",
    "plt.imshow(abs(to_plot.T), extent=[num_x_cells[0], num_x_cells[-1], num_y_cells[0], num_y_cells[-1]]) # this is giving the y axis in meters, and x axis in angles "
   ]
  },
  {
   "cell_type": "markdown",
   "metadata": {},
   "source": [
    "Finally, we will perform matched filter on multiple depths in the enivornment. Finish the code in order to view the imaged items in 3D!"
   ]
  },
  {
   "cell_type": "code",
   "execution_count": 67,
   "metadata": {},
   "outputs": [
    {
     "data": {
      "text/plain": [
       "(40,)"
      ]
     },
     "execution_count": 67,
     "metadata": {},
     "output_type": "execute_result"
    }
   ],
   "source": [
    "######## 3D Imaging in Polar #############\n",
    "num_y_cells.shape"
   ]
  },
  {
   "cell_type": "markdown",
   "metadata": {},
   "source": []
  }
 ],
 "metadata": {
  "kernelspec": {
   "display_name": "Python 3 (ipykernel)",
   "language": "python",
   "name": "python3"
  },
  "language_info": {
   "codemirror_mode": {
    "name": "ipython",
    "version": 3
   },
   "file_extension": ".py",
   "mimetype": "text/x-python",
   "name": "python",
   "nbconvert_exporter": "python",
   "pygments_lexer": "ipython3",
   "version": "3.10.13"
  }
 },
 "nbformat": 4,
 "nbformat_minor": 4
}
