{
 "cells": [
  {
   "cell_type": "markdown",
   "metadata": {},
   "source": [
    "<h1> Exercises </h1>\n",
    "In this notebook we have a few exercises and examples of code such that you can run it, play around with it to better understand how radar signal processing is performed in Python. "
   ]
  },
  {
   "cell_type": "code",
   "execution_count": 1,
   "metadata": {},
   "outputs": [],
   "source": [
    "\n",
    "import numpy as np\n",
    "import matplotlib.pyplot as plt\n",
    "import os\n",
    "import scipy\n",
    "import scipy.io as sio\n",
    "import processing.save_adc_data as sd\n",
    "import processing._process_data as pd\n"
   ]
  },
  {
   "cell_type": "markdown",
   "metadata": {},
   "source": [
    "<h5> 1. Setting up Paths and Loading Data: </h5>\n",
    "To load your data, please make sure the file paths are all correct. The variables/functions are setup expecting a specific way of your project directory organization, however it is up to you how you want to organize it. Step through these variables to make sure you are loading what is expected. \n",
    "\n",
    "In the end, it is up to you how you want to link the paths. We've set it up in a way that should work if you follow the path conventions however you are welcome to look through all the functions called in order to determine how you want to input path names."
   ]
  },
  {
   "cell_type": "code",
   "execution_count": 2,
   "metadata": {},
   "outputs": [],
   "source": [
    "# TODO: Put the *name* of your .bin file here (excluding the .bin)\n",
    "filename = r\"1\"\n",
    "# TODO: Put the *path* to the project folder\n",
    "home_dir = r\"/Users/shanbhag/Documents/School/comm-proj-radars\"\n",
    "# TODO: Put the path (relative to home_dir) of the captured data folder\n",
    "capture_data_dir = r\"data\"\n",
    "# TODO: Put the path (relative to home_dir) and name of the JSON files (exlude the .setup.json and .mmwave.json)\n",
    "json_filename = r\"scripts/chirp1\"\n",
    "path_to_rawdata = os.path.join(home_dir,capture_data_dir,\"rdc_\" + filename + '.mat')\n",
    "bin_data = sio.loadmat(os.path.join(home_dir,capture_data_dir,\"rdc_\" + filename + '.mat'))"
   ]
  },
  {
   "cell_type": "markdown",
   "metadata": {},
   "source": [
    "Loading the data requires loading the *.bin file you measured and converting it to a *.mat file. You only have to do this conversion once if the data has not changed in that file. Then we load the *.mat file and extract the raw data."
   ]
  },
  {
   "cell_type": "code",
   "execution_count": 3,
   "metadata": {},
   "outputs": [
    {
     "name": "stdout",
     "output_type": "stream",
     "text": [
      "You captured 20 frames, for 3 TX, 4 Rx, and 512 adc samples\n"
     ]
    }
   ],
   "source": [
    "############################# Reformat the Data #############################\n",
    "if not os.path.exists(os.path.join(home_dir,capture_data_dir,\"rdc_\" + filename + '.mat')):\n",
    "    sd.save_adc_data(filename, home_dir, capture_data_dir, json_filename)\n",
    "\n",
    "################################# load data #################################\n",
    "bin_data = sio.loadmat(os.path.join(home_dir,capture_data_dir,\"rdc_\" + filename + '.mat'))\n",
    "raw_data = np.array(bin_data['data_raw'])\n",
    "\n",
    "print(\"You captured %d frames, for %d TX, %d Rx, and %d adc samples\" % raw_data.shape)"
   ]
  },
  {
   "cell_type": "markdown",
   "metadata": {},
   "source": [
    "<h5> 2. Range FFT: </h5> \n",
    "\n",
    "There is some simple signal processing we can do to have a coarse understanding of what we've received. Below, is code for processing and plotting the range FFT as you have seen in the lectures. Based on this you should also be able to locate the strongest reflector and recover the distance of that reflector. "
   ]
  },
  {
   "cell_type": "code",
   "execution_count": 4,
   "metadata": {},
   "outputs": [
    {
     "data": {
      "text/plain": [
       "[<matplotlib.lines.Line2D at 0x7f7c4099b130>]"
      ]
     },
     "execution_count": 4,
     "metadata": {},
     "output_type": "execute_result"
    },
    {
     "data": {
      "image/png": "[encoded data removed]",
      "text/plain": [
       "<Figure size 640x480 with 1 Axes>"
      ]
     },
     "metadata": {},
     "output_type": "display_data"
    }
   ],
   "source": [
    "############################### process data! ################################\n",
    "# Range FFT\n",
    "rfft = scipy.fft.fft(raw_data, axis=3)\n",
    "plt.plot(abs(np.squeeze(np.sum(rfft[:,:,:,0:50],axis=(0,2,1)))))\n"
   ]
  },
  {
   "cell_type": "code",
   "execution_count": null,
   "metadata": {},
   "outputs": [],
   "source": []
  },
  {
   "cell_type": "code",
   "execution_count": null,
   "metadata": {},
   "outputs": [],
   "source": [
    "######## Find the distance of the maximum reflector in front of the radar. #############\n",
    "# TODO: add your code here"
   ]
  },
  {
   "cell_type": "markdown",
   "metadata": {},
   "source": [
    "<h5> 3. Beamforming </h5>\n",
    "\n",
    "To help understand some of the ways to visualize radar data better especially in 2D or 3D, we have provided some processed data and some examples of Python plotting code to play around with. First we will go through the process of beamforming and show the heatmaps we can recover from this."
   ]
  },
  {
   "cell_type": "code",
   "execution_count": 50,
   "metadata": {},
   "outputs": [],
   "source": [
    "# TODO: Put the *path* to the project folder\n",
    "home_dir = r\"/Users/shanbhag/Documents/School/comm-proj-radars\"\n",
    "\n",
    "filename = r\"BF_data\"\n",
    "data_dir = r\"given_data\"\n",
    "mat_data = sio.loadmat(os.path.join(home_dir,data_dir,filename + '.mat'))\n",
    "\n",
    "# define the antenna spacing\n",
    "lm = 3e8/77e9 # define lambda for the antenna spacing\n",
    "rx_pos = np.reshape(np.arange(1,5,dtype=float),(-1,1))\n",
    "x_pos = (np.reshape(np.arange(1,81,dtype=float),(-1,1)) * lm).T\n",
    "ant_pos = rx_pos * x_pos \n",
    "ant_pos = np.reshape(ant_pos,(-1,1))\n",
    "\n",
    "raw_data = mat_data['adcData']\n",
    "\n",
    "for ii in range(raw_data.shape[0]):\n",
    "    raw_data[ii,:] = pd.butter_highpass_filter(raw_data[ii,:],350000,10e6)"
   ]
  },
  {
   "cell_type": "code",
   "execution_count": 52,
   "metadata": {},
   "outputs": [],
   "source": [
    "# just look at one vertical dimension since we are not using phi\n",
    "num_x_stp, num_z_stp, num_tx, num_rx, adc_samples = raw_data.shape\n",
    "X = raw_data[:,num_z_stp//2,:,:,:]\n",
    "locs = ant_pos\n",
    "beat_freq = scipy.fft.fft(X, axis=-1)\n",
    "beat_freq = np.reshape(beat_freq,(num_x_stp * num_rx, adc_samples))"
   ]
  },
  {
   "cell_type": "code",
   "execution_count": 53,
   "metadata": {},
   "outputs": [
    {
     "name": "stdout",
     "output_type": "stream",
     "text": [
      "Running this many iterations: 50 \n",
      "Processed angle (138.00)\r"
     ]
    }
   ],
   "source": [
    "################# Change the values based on how much of the azimuth angles you want to see and the resolution ##################\n",
    "# Define field of view in degrees that you want to process in theta \n",
    "theta_s, theta_e = 40, 140\n",
    "# resolution of the angles\n",
    "theta_res = 2\n",
    "\n",
    "# Convert everything to Radians \n",
    "theta_s *= (np.pi/180)\n",
    "theta_e *= (np.pi/180)\n",
    "theta_res*= (np.pi/180)\n",
    "theta_rad_lim = [theta_s,theta_e]\n",
    "\n",
    "# Generate arrays for theta \n",
    "theta = np.arange(theta_rad_lim[0], theta_rad_lim[1], theta_res)\n",
    "N_theta = len(theta)\n",
    "\n",
    "# Initialize arrays for spherical power\n",
    "sph_pwr = np.zeros((N_theta, adc_samples), dtype=complex)\n",
    "\n",
    "print(\"Running this many iterations: %d \" % (N_theta))\n",
    "\n",
    "######################## BF Calculations ###########################3\n",
    "for kt in range(N_theta):\n",
    "        sin_theta = np.sin(theta[kt])\n",
    "        Vec = np.exp(1j*(2*np.pi*(locs*sin_theta)/lm)) \n",
    "        VecRFI = np.repeat(Vec[:, np.newaxis], adc_samples, axis=1)\n",
    "        sph_pwr[kt, :] = np.squeeze(np.sum(np.multiply(beat_freq[:, 0:adc_samples], np.squeeze(VecRFI)), axis=(0)))\n",
    "        print(\"Processed angle (%.2f)\" % (theta[kt]*180/np.pi), end='\\r')\n"
   ]
  },
  {
   "cell_type": "code",
   "execution_count": 55,
   "metadata": {},
   "outputs": [
    {
     "data": {
      "text/plain": [
       "<matplotlib.image.AxesImage at 0x7fbf29350520>"
      ]
     },
     "execution_count": 55,
     "metadata": {},
     "output_type": "execute_result"
    },
    {
     "data": {
      "image/png": "[encoded data removed]",
      "text/plain": [
       "<Figure size 640x480 with 1 Axes>"
      ]
     },
     "metadata": {},
     "output_type": "display_data"
    }
   ],
   "source": [
    "plt.imshow(abs(sph_pwr[:,0:50]), extent=[0, 1, 0, 1])\n"
   ]
  },
  {
   "cell_type": "code",
   "execution_count": 56,
   "metadata": {},
   "outputs": [
    {
     "data": {
      "text/plain": [
       "<matplotlib.image.AxesImage at 0x7fbf395bc5b0>"
      ]
     },
     "execution_count": 56,
     "metadata": {},
     "output_type": "execute_result"
    },
    {
     "data": {
      "image/png": "[encoded data removed]",
      "text/plain": [
       "<Figure size 640x480 with 1 Axes>"
      ]
     },
     "metadata": {},
     "output_type": "display_data"
    }
   ],
   "source": [
    "plt.imshow(abs(sph_pwr[:,0:25]), extent=[0, 1, 0, 1])\n"
   ]
  },
  {
   "cell_type": "markdown",
   "metadata": {},
   "source": [
    "Once we've performed beamforming on this 1D array, we can plot the corresponding images. In this example below, we have plotted the birds eye view for you. You can play around with the normalization to see how different thresholds impact the final image and what reflectors you can see. "
   ]
  },
  {
   "cell_type": "markdown",
   "metadata": {},
   "source": [
    "<h5> 4. Matched Filter:</h5> \n",
    "\n",
    "Find the distance of the maximum reflector in the enivornment for the two data files provided. Show your code and print out the values in the next cell."
   ]
  },
  {
   "cell_type": "code",
   "execution_count": 6,
   "metadata": {},
   "outputs": [],
   "source": []
  },
  {
   "cell_type": "markdown",
   "metadata": {},
   "source": [
    "<h5>Exercise 2:</h5> Now you will have to fill in some code we provide for different methods of radar imaging. Here we have given you the skeleton of the code for a 2D beamforming algorithm which you must fill in to get the 2D heatmap of the scene in polar coordinates."
   ]
  },
  {
   "cell_type": "code",
   "execution_count": null,
   "metadata": {},
   "outputs": [],
   "source": [
    "######## 2D Imaging in Polar #############\n"
   ]
  },
  {
   "cell_type": "markdown",
   "metadata": {},
   "source": [
    "Now finish the code for a 2D matched filter algorithm for 2D heatmap of the scene in cartesian coordinates."
   ]
  },
  {
   "cell_type": "code",
   "execution_count": null,
   "metadata": {},
   "outputs": [],
   "source": [
    "######## 2D Imaging in Cartesian #############"
   ]
  },
  {
   "cell_type": "markdown",
   "metadata": {},
   "source": [
    "Finally, we will perform matched filter on multiple depths in the enivornment. Finish the code in order to view the imaged items in 3D!"
   ]
  },
  {
   "cell_type": "code",
   "execution_count": null,
   "metadata": {},
   "outputs": [],
   "source": [
    "######## 3D Imaging in Polar #############"
   ]
  },
  {
   "cell_type": "markdown",
   "metadata": {},
   "source": []
  }
 ],
 "metadata": {
  "kernelspec": {
   "display_name": "Python 3 (ipykernel)",
   "language": "python",
   "name": "python3"
  },
  "language_info": {
   "codemirror_mode": {
    "name": "ipython",
    "version": 3
   },
   "file_extension": ".py",
   "mimetype": "text/x-python",
   "name": "python",
   "nbconvert_exporter": "python",
   "pygments_lexer": "ipython3",
   "version": "3.10.13"
  }
 },
 "nbformat": 4,
 "nbformat_minor": 4
}
