{
 "cells": [
  {
   "cell_type": "code",
   "execution_count": 3,
   "metadata": {},
   "outputs": [],
   "source": [
    "import os\n",
    "from streaming.radar import radar"
   ]
  },
  {
   "cell_type": "code",
   "execution_count": 4,
   "metadata": {},
   "outputs": [],
   "source": [
    "rtt_path = r'C:\\ti\\mmwave_studio_02_01_01_00\\mmWaveStudio\\Clients\\RtttNetClientController\\RtttNetClientAPI.dll'\n",
    "# create folders for saving data\n",
    "home_dir = r'' # home directory path (of the project folder, full path)\n",
    "exp_path = r'' # put the folder you want to save data to (full path)\n",
    "exp_name = r'' # name of the file you want to save\n",
    "config_lua_script = r'' # relative path to the lua scripts for configuration(ex. scripts/1843_config.lua)\n",
    "record_lua_script = r'' # relative path to the lua scripts for recording(ex. scripts/1843_record.lua)\n",
    "\n",
    "# initialize the radar class, this runs .lua scripts from mmWaveStudio and captures data\n",
    "radar1 = radar(rtt_path,config_lua_script)"
   ]
  },
  {
   "cell_type": "code",
   "execution_count": null,
   "metadata": {},
   "outputs": [],
   "source": [
    "# check to see if you've already captured data with the same experiment name, if so, maybe you don't want to overwrite it\n",
    "if os.path.isfile((os.path.join(exp_path, r\"%s.bin\" % exp_name))):\n",
    "    print(\"You have files created already so you might overwrite data!\")\n",
    "\n",
    "else:\n",
    "    if not os.path.isdir(exp_path):\n",
    "        os.mkdir(exp_path)\n",
    "\n",
    "    # capture data and process it\n",
    "    radar1.mmwave_capture(exp_path, exp_name, record_lua_script)"
   ]
  },
  {
   "cell_type": "code",
   "execution_count": null,
   "metadata": {},
   "outputs": [],
   "source": []
  },
  {
   "cell_type": "code",
   "execution_count": null,
   "metadata": {},
   "outputs": [],
   "source": []
  },
  {
   "cell_type": "code",
   "execution_count": null,
   "metadata": {},
   "outputs": [],
   "source": []
  },
  {
   "cell_type": "code",
   "execution_count": null,
   "metadata": {},
   "outputs": [],
   "source": []
  }
 ],
 "metadata": {
  "kernelspec": {
   "display_name": "demo",
   "language": "python",
   "name": "python3"
  },
  "language_info": {
   "codemirror_mode": {
    "name": "ipython",
    "version": 3
   },
   "file_extension": ".py",
   "mimetype": "text/x-python",
   "name": "python",
   "nbconvert_exporter": "python",
   "pygments_lexer": "ipython3",
   "version": "3.10.10"
  }
 },
 "nbformat": 4,
 "nbformat_minor": 2
}
