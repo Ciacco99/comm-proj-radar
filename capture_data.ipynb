{
 "cells": [
  {
   "cell_type": "code",
   "execution_count": 5,
   "metadata": {
    "tags": []
   },
   "outputs": [],
   "source": [
    "import os\n",
    "from streaming.radar import radar\n",
    "%load_ext autoreload\n",
    "%autoreload 2"
   ]
  },
  {
   "cell_type": "code",
   "execution_count": 9,
   "metadata": {},
   "outputs": [
    {
     "name": "stdout",
     "output_type": "stream",
     "text": [
      "Sending test message to RSTD\n",
      "Test message success\n"
     ]
    }
   ],
   "source": [
    "rtt_path = r'C:\\ti\\mmwave_studio_02_01_01_00\\mmWaveStudio\\Clients\\RtttNetClientController\\RtttNetClientAPI.dll'\n",
    "# create folders for saving data\n",
    "home_dir = r'C:\\Users\\robin\\Documents\\EPFL\\BA5\\Comm_project\\comm-proj-radar' # home directory path (of the project folder, full path)\n",
    "exp_path = os.path.join(home_dir, r'record') # put the folder you want to save data to (full path)\n",
    "exp_name = r'2' # name of the file you want to save (no .bin)\n",
    "config_lua_script = r'scripts/1843_config.lua' # relative path to the lua scripts for configuration assuming it in is the home dir(ex. scripts/1843_config.lua)\n",
    "record_lua_script = r'scripts/1843_record.lua' # relative path to the lua scripts for recording it in is the home dir(ex. scripts/1843_record.lua)\n",
    "\n",
    "# initialize the radar class, this runs .lua scripts from mmWaveStudio and captures data\n",
    "radar1 = radar(home_dir, rtt_path,config_lua_script)"
   ]
  },
  {
   "cell_type": "code",
   "execution_count": 15,
   "metadata": {
    "tags": []
   },
   "outputs": [
    {
     "name": "stdout",
     "output_type": "stream",
     "text": [
      "Radar configurated!\n"
     ]
    }
   ],
   "source": [
    "radar1.mmwave_config(config_lua_script)"
   ]
  },
  {
   "cell_type": "code",
   "execution_count": 16,
   "metadata": {},
   "outputs": [
    {
     "name": "stdout",
     "output_type": "stream",
     "text": [
      "C:\\\\\\\\Users\\\\\\\\robin\\\\\\\\Documents\\\\\\\\EPFL\\\\\\\\BA5\\\\\\\\Comm_project\\\\\\\\comm-proj-radar\\\\\\\\record\\\\\\\\\n",
      "Frame collected!\n"
     ]
    }
   ],
   "source": [
    "# check to see if you've already captured data with the same experiment name, if so, maybe you don't want to overwrite it\n",
    "if os.path.isfile((os.path.join(exp_path, r\"%s.bin\" % exp_name))):\n",
    "    print(\"You have files created already so you might overwrite data!\")\n",
    "else:\n",
    "    if not os.path.isdir(exp_path):\n",
    "        os.mkdir(exp_path)\n",
    "\n",
    "    # capture data and process it\n",
    "    radar1.mmwave_capture(exp_name, exp_path,record_lua_script)"
   ]
  },
  {
   "cell_type": "code",
   "execution_count": null,
   "metadata": {},
   "outputs": [],
   "source": []
  },
  {
   "cell_type": "code",
   "execution_count": null,
   "metadata": {},
   "outputs": [],
   "source": []
  },
  {
   "cell_type": "code",
   "execution_count": null,
   "metadata": {},
   "outputs": [],
   "source": []
  },
  {
   "cell_type": "code",
   "execution_count": null,
   "metadata": {},
   "outputs": [],
   "source": []
  }
 ],
 "metadata": {
  "kernelspec": {
   "display_name": "Python 3 (ipykernel)",
   "language": "python",
   "name": "python3"
  },
  "language_info": {
   "codemirror_mode": {
    "name": "ipython",
    "version": 3
   },
   "file_extension": ".py",
   "mimetype": "text/x-python",
   "name": "python",
   "nbconvert_exporter": "python",
   "pygments_lexer": "ipython3",
   "version": "3.11.5"
  }
 },
 "nbformat": 4,
 "nbformat_minor": 4
}
